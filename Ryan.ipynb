{
 "cells": [
  {
   "cell_type": "markdown",
   "id": "cc84030b",
   "metadata": {},
   "source": [
    "# Learn Lyncs-API"
   ]
  },
  {
   "cell_type": "code",
   "execution_count": null,
   "id": "1cede082",
   "metadata": {},
   "outputs": [],
   "source": [
    "import os\n",
    "import sys\n",
    "import numpy as np  # type: ignore\n",
    "import lyncs_io as lio  # type: ignore\n",
    "from typing import List"
   ]
  },
  {
   "cell_type": "markdown",
   "id": "7da040a0",
   "metadata": {},
   "source": [
    "<div class=\"alert alert-block alert-warning\"><b>Warning:</b>If you get the warning <code><FONT COLOR=\"#db5048\">ModuleNotFoundError</code><code>: No module named 'lyncs_io'</code>, you need to change the kernel via Kernel > Change kernel > lyncs.</div>"
   ]
  },
  {
   "cell_type": "code",
   "execution_count": null,
   "id": "52bfdb32",
   "metadata": {},
   "outputs": [],
   "source": [
    "import plaquette as RPlaq"
   ]
  },
  {
   "cell_type": "markdown",
   "id": "e9c73de4",
   "metadata": {},
   "source": [
    "## Introduction\n",
    "\n",
    "<a href=\"https://github.com/Lyncs-API\">Lyncs-API</a> is a Python API for Lattice QCD applications () created by Simone Bacchio, Christodoulos Stylianou and Alexandros Angeli.\n",
    "\n",
    "One such API is <a href=\"https://github.com/Lyncs-API/lyncs.io\">lyncs.io</a>, a suite of I/O functions which allow for quick and simple interfacing with several common file formats, including lattice-oriented formats such as `.lime` and `.openqcd`."
   ]
  },
  {
   "cell_type": "markdown",
   "id": "84b8825b",
   "metadata": {},
   "source": [
    "## Accessing the data\n",
    "\n",
    "Let us use some example gaugefield files to showcase `lyncs`. We use $8\\times24^3$ SU(3) $N_f = 2 + 1$ gaugefields in $3+1d$. These otherwise have the same parameters as FASTSUM's Generation 2 ensembles \\[[1](https://arxiv.org/abs/1412.6411), [2](https://arxiv.org/abs/2007.04188)\\]."
   ]
  },
  {
   "cell_type": "code",
   "execution_count": null,
   "id": "c35ee30f",
   "metadata": {},
   "outputs": [],
   "source": [
    "# the location, name and ID number of the gaugefields\n",
    "gfDir = 'confs'\n",
    "gfName = 'Gen2_8x24n'\n",
    "gfIDs = [7,8,9]"
   ]
  },
  {
   "cell_type": "markdown",
   "id": "4b3b0167",
   "metadata": {},
   "source": [
    "Using the `head()` function, we can read the header data stored in the file and access the information in the form of a `dict` object.\n",
    "\n",
    "Here we see that our example gaugefield files are arranged in the shape $N_t \\times N_s^3 \\times N_d \\times N_c^2$. The `dtype` key shows that the datatype is `'<c16'` or (little-endian) double-precision complex. `'_offset'` is the number of bytes in the header and `'plaq'` is the average value of the spatial and temporal plaquette."
   ]
  },
  {
   "cell_type": "code",
   "execution_count": null,
   "id": "277510c3",
   "metadata": {},
   "outputs": [],
   "source": [
    "# We can probe the header data of the gaugefield files\n",
    "# Loop over each ID\n",
    "for iid in gfIDs:\n",
    "    gfFile = os.path.join(gfDir,f'{gfName}{iid}')\n",
    "    # Read and print header\n",
    "    print(f\"{gfFile}:\", lio.head(gfFile, format='openqcd'))"
   ]
  },
  {
   "cell_type": "markdown",
   "id": "917c999e",
   "metadata": {},
   "source": [
    "The `load()` function returns a `numpy.ndarray` containing the gaugefields. Let's load some example data:"
   ]
  },
  {
   "cell_type": "code",
   "execution_count": null,
   "id": "0e29b38d",
   "metadata": {},
   "outputs": [],
   "source": [
    "# Load the gaugefields\n",
    "# Make a list of gaugefield data\n",
    "gfData: List[np.ndarray] = []\n",
    "# Loop over each ID\n",
    "for iid in gfIDs:\n",
    "    gfFile = os.path.join(gfDir,f'{gfName}{iid}')\n",
    "    # Load and append\n",
    "    # Here we have specified the full path and the format\n",
    "    # Can figure it out based on extension, but format is clearer\n",
    "    gfData.append(lio.load(gfFile, format='openqcd'))\n",
    "# Convert to array for better indexing\n",
    "gfAr = np.asarray(gfData)"
   ]
  },
  {
   "cell_type": "markdown",
   "id": "2c43ae3a",
   "metadata": {},
   "source": [
    "`lyncs.io` can also be used to convert from one format to another. For example, we can simply convert from `openqcd` format to `lime` using the `save()` function:"
   ]
  },
  {
   "cell_type": "code",
   "execution_count": null,
   "id": "4d854b8e",
   "metadata": {},
   "outputs": [],
   "source": [
    "# Save the gaugefield array gfAr to a lime file\n",
    "lio.save(gfAr,'Gen2_8x24_gfAr.lime')"
   ]
  },
  {
   "cell_type": "markdown",
   "id": "99981925",
   "metadata": {},
   "source": [
    "Since our new file has a standard extension, `lyncs.io` can infer the format from the filename. The `head()` function now accesses the `lime` record associated with our new data."
   ]
  },
  {
   "cell_type": "code",
   "execution_count": null,
   "id": "74c58510",
   "metadata": {},
   "outputs": [],
   "source": [
    "# Read the header of our new lime file\n",
    "lio.head('Gen2_8x24_gfAr.lime')"
   ]
  },
  {
   "cell_type": "markdown",
   "id": "0cedf639",
   "metadata": {},
   "source": [
    "If we want to access all of the records in the file, we can use `lime.read_records()`:"
   ]
  },
  {
   "cell_type": "code",
   "execution_count": null,
   "id": "d7b83558",
   "metadata": {},
   "outputs": [],
   "source": [
    "lio.lime.read_records('Gen2_8x24_gfAr.lime')"
   ]
  },
  {
   "cell_type": "markdown",
   "id": "f4da143a",
   "metadata": {},
   "source": [
    "If we want to read this lime file back into a `numpy.ndarray` we can use the `load()` function again"
   ]
  },
  {
   "cell_type": "code",
   "execution_count": null,
   "id": "e03f5f74",
   "metadata": {},
   "outputs": [],
   "source": [
    "lime = lio.load('Gen2_8x24_gfAr.lime')"
   ]
  },
  {
   "cell_type": "markdown",
   "id": "edf8e158",
   "metadata": {},
   "source": [
    "## Manipulating the data\n",
    "\n",
    "As an exercise, let's calculate the values for the whole, spatial and temporal plaquettes:\n",
    "<img src=\"latticePlaqDiag.png\" alt=\"plaquette diagram\" width=\"400\" height=\"400\"/>"
   ]
  },
  {
   "cell_type": "code",
   "execution_count": null,
   "id": "1e707f42",
   "metadata": {},
   "outputs": [],
   "source": [
    "# Here show the shape of the data\n",
    "# it is [ID, NT, NX, NY, NZ, mu, colour, colour]\n",
    "print(gfAr.shape)"
   ]
  },
  {
   "cell_type": "code",
   "execution_count": null,
   "id": "013e5718",
   "metadata": {},
   "outputs": [],
   "source": [
    "# Use Ryan's plaquette code to calculate whole of lattice plaquette\n",
    "# the sum of plaquettes, the number of plaquttes, the average plaquette and the time taken\n",
    "sumTrP, nP, ave, time = RPlaq.plaquette(gfAr[0, ...])\n",
    "print(f'calculated average plaquette {ave} in {time:.2} seconds')"
   ]
  },
  {
   "cell_type": "code",
   "execution_count": null,
   "id": "af563690",
   "metadata": {},
   "outputs": [],
   "source": [
    "# Use Ryan's plaquette code to calculate spatial plaquette\n",
    "ssumTrP, snP, save, stime = RPlaq.plaquette(gfAr[0, ...], muStart=1, muEnd=4, nuEnd=4)\n",
    "print(f'calculated average spatial plaquette {save} in {stime:.2} seconds')"
   ]
  },
  {
   "cell_type": "code",
   "execution_count": null,
   "id": "34861e02",
   "metadata": {
    "scrolled": true
   },
   "outputs": [],
   "source": [
    "# Use Ryan's plaquette code to calculate temporal plaquette\n",
    "tsumTrP, tnP, tave, ttime = RPlaq.plaquette(gfAr[0, ...], muStart=0, muEnd=1, nuEnd=4)\n",
    "print(f'calculated average temporal plaquette {tave} in {ttime:.2} seconds')"
   ]
  },
  {
   "cell_type": "code",
   "execution_count": null,
   "id": "da9ef2b6",
   "metadata": {},
   "outputs": [],
   "source": [
    "# Just check that this agrees with the whole of lattice plaquette (visually)\n",
    "print(f'average of temporal and spatial plaquettes {(tave+save)/2.0}')"
   ]
  },
  {
   "cell_type": "markdown",
   "id": "84c85b15",
   "metadata": {},
   "source": [
    "# C\n",
    "\n",
    "Now that we can load and manipulate the data, we might want to increase performance by offloading our calculations to a script written in a compiled language such as C."
   ]
  },
  {
   "cell_type": "code",
   "execution_count": null,
   "id": "5fa360b2",
   "metadata": {},
   "outputs": [],
   "source": [
    "# Prepare a single gaugefield for writing\n",
    "COrder = gfAr[0, ...]\n",
    "# Now save\n",
    "COrder.tofile('Gen2_8x24_gfAr0.C')"
   ]
  },
  {
   "cell_type": "markdown",
   "id": "88153b6f",
   "metadata": {},
   "source": [
    "There is a C program `readC.c` supplied. This program will read `Gen2_8x24_gfAr0.C` in and calculate whole, spatial and temporal plaquettes. We do that now"
   ]
  },
  {
   "cell_type": "code",
   "execution_count": null,
   "id": "f0c8edfc",
   "metadata": {},
   "outputs": [],
   "source": [
    "# The command to compile\n",
    "ccmd = 'gcc -O3 readC.c'\n",
    "os.system(ccmd)"
   ]
  },
  {
   "cell_type": "code",
   "execution_count": null,
   "id": "ff553fed",
   "metadata": {},
   "outputs": [],
   "source": [
    "# The command to run\n",
    "rcmd = './a.out'\n",
    "os.system(rcmd)"
   ]
  },
  {
   "cell_type": "markdown",
   "id": "501132b5",
   "metadata": {},
   "source": [
    "# Fortran\n",
    "We might like to read the gaugefield into Fortran too. While there exists code that read openqcd format into Fortran, these do not undo the checkerboarding or `flattening` of the space-time dimensions. Here we seek to have the data in the same $N_t \\times N_s^3 \\times N_d \\times N_c^2$ format as in the `np.ndarray`.\n",
    "\n",
    "Unlike C which uses row-major ordering, Fortran uses column-major ordering for multidimensional arrays in linear memory. We must specify this reordering when calling `reshape` by passing the argument `order='F'`.\n",
    "\n",
    "<div class=\"alert alert-block alert-info\"><b>Info:</b> Python natively uses neither row nor column ordering. Instead, the allocations are made directly onto the heap (which is not necessarily contiguous) rather than the stack. However, the <code>numpy</code> package is based in C and thus follows the row-major ordering scheme.</div>\n",
    "\n",
    "This solution is based upon [this stack overflow](https://stackoverflow.com/a/49179272) answer. This solution assumes that your Python and Fortran code use the same (little) endianess."
   ]
  },
  {
   "cell_type": "code",
   "execution_count": null,
   "id": "dacdd362",
   "metadata": {},
   "outputs": [],
   "source": [
    "# First reorder a single gaugefield into 'fortran' order\n",
    "fortOrder = gfAr[0, ...].reshape(gfAr[0, ...].shape, order='F')\n",
    "# we consider a single gaugefield only as Fortran allows only rank 7 arrays \n",
    "# and saving all configurations at once would be rank 8\n",
    "# This could be avoided by some sort of derived type\n",
    "# Now we save\n",
    "fortOrder.T.tofile('Gen2_8x24_gfAr0.fort')"
   ]
  },
  {
   "cell_type": "markdown",
   "id": "b31c28f9",
   "metadata": {},
   "source": [
    "There is a Fortran program `readFortran.f90` supplied. This program will read `Gen2_8x24_gfAr0.fort` in and calculate whole, spatial and temporal plaquettes. We do that now"
   ]
  },
  {
   "cell_type": "code",
   "execution_count": null,
   "id": "273febd2",
   "metadata": {},
   "outputs": [],
   "source": [
    "# The command to compile\n",
    "ccmd = 'gfortran -O3 -g -fbacktrace readFortran.f90'\n",
    "os.system(ccmd)"
   ]
  },
  {
   "cell_type": "code",
   "execution_count": null,
   "id": "12612168",
   "metadata": {},
   "outputs": [],
   "source": [
    "# The command to run\n",
    "rcmd = './a.out'\n",
    "os.system(rcmd)"
   ]
  },
  {
   "cell_type": "markdown",
   "id": "7de37e21",
   "metadata": {},
   "source": [
    "### "
   ]
  }
 ],
 "metadata": {
  "kernelspec": {
   "display_name": "lyncs",
   "language": "python",
   "name": "lyncs"
  },
  "language_info": {
   "codemirror_mode": {
    "name": "ipython",
    "version": 3
   },
   "file_extension": ".py",
   "mimetype": "text/x-python",
   "name": "python",
   "nbconvert_exporter": "python",
   "pygments_lexer": "ipython3",
   "version": "3.10.8"
  }
 },
 "nbformat": 4,
 "nbformat_minor": 5
}
