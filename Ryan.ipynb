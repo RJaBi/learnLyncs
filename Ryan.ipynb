{
 "cells": [
  {
   "cell_type": "markdown",
   "id": "cc84030b",
   "metadata": {},
   "source": [
    "# Learn Lyncs-API"
   ]
  },
  {
   "cell_type": "code",
   "execution_count": null,
   "id": "1cede082",
   "metadata": {},
   "outputs": [],
   "source": [
    "import os\n",
    "import sys\n",
    "import numpy as np  # type: ignore\n",
    "import lyncs_io as lio  # type: ignore\n",
    "from typing import List"
   ]
  },
  {
   "cell_type": "code",
   "execution_count": null,
   "id": "52bfdb32",
   "metadata": {},
   "outputs": [],
   "source": [
    "import plaquette as RPlaq"
   ]
  },
  {
   "cell_type": "markdown",
   "id": "e9c73de4",
   "metadata": {},
   "source": [
    "## Introduction\n",
    "\n",
    "<a href=\"https://github.com/Lyncs-API\">Lyncs-API</a> is a Python API for Lattice QCD applications () created by Simone Bacchio, Christodoulos Stylianou and Alexandros Angeli.\n",
    "\n",
    "One such API is <a href=\"https://github.com/Lyncs-API/lyncs.io\">lyncs.io</a>, a suite of I/O functions which allow for quick and simple interfacing with several common file formats, including lattice-oriented formats such as `.lime` and `.openqcd`."
   ]
  },
  {
   "cell_type": "markdown",
   "id": "84b8825b",
   "metadata": {},
   "source": [
    "## Accessing the data\n",
    "\n",
    "Let us use some example gaugefield files to showcase `lyncs`. We use FASTSUM's $8\\times24^3$ Gen-2 SU(3) lattices in $3+1d$:"
   ]
  },
  {
   "cell_type": "code",
   "execution_count": null,
   "id": "c35ee30f",
   "metadata": {},
   "outputs": [],
   "source": [
    "# the location, name and ID number of the gaugefields\n",
    "gfDir = 'confs'\n",
    "gfName = 'Gen2_8x24n'\n",
    "gfIDs = [7,8,9]"
   ]
  },
  {
   "cell_type": "markdown",
   "id": "4b3b0167",
   "metadata": {},
   "source": [
    "Using the `head()` function, we can read the header data stored in the file and access the information in the form of a `dict` object.\n",
    "\n",
    "Here we see that our example gaugefield files are arranged in the shape $N_t \\times N_s^3 \\times N_d \\times N_c^2$. The `dtype` key shows that the datatype is `'<c16'` or double-precision complex. `'_offset'` is the number of bytes in the header and `'plaq'` is the average value of the spatial and temporal plaquette."
   ]
  },
  {
   "cell_type": "code",
   "execution_count": null,
   "id": "277510c3",
   "metadata": {},
   "outputs": [],
   "source": [
    "# We can probe the header data of the gaugefield files\n",
    "# Loop over each ID\n",
    "for iid in gfIDs:\n",
    "    gfFile = os.path.join(gfDir,f'{gfName}{iid}')\n",
    "    # Read and print header\n",
    "    print(f\"{gfFile}:\", lio.head(gfFile, format='openqcd'))"
   ]
  },
  {
   "cell_type": "markdown",
   "id": "917c999e",
   "metadata": {},
   "source": [
    "The `load()` function returns a `numpy.ndarray` containing the gaugefields. Let's load some example data:"
   ]
  },
  {
   "cell_type": "code",
   "execution_count": null,
   "id": "0e29b38d",
   "metadata": {},
   "outputs": [],
   "source": [
    "# Load the gaugefields\n",
    "# Make a list of gaugefield data\n",
    "gfData: List[np.ndarray] = []\n",
    "# Loop over each ID\n",
    "for iid in gfIDs:\n",
    "    gfFile = os.path.join(gfDir,f'{gfName}{iid}')\n",
    "    # Load and append\n",
    "    # Here we have specified the full path and the format\n",
    "    # Can figure it out based on extension, but format is clearer\n",
    "    gfData.append(lio.load(gfFile, format='openqcd'))\n",
    "# Convert to array for better indexing\n",
    "gfAr = np.asarray(gfData)"
   ]
  },
  {
   "cell_type": "markdown",
   "id": "2c43ae3a",
   "metadata": {},
   "source": [
    "`lyncs.io` can also be used to convert from one format to another. For example, we can simply convert from `openqcd` format to `lime` using the `save()` function:"
   ]
  },
  {
   "cell_type": "code",
   "execution_count": null,
   "id": "4d854b8e",
   "metadata": {},
   "outputs": [],
   "source": [
    "# Save the gaugefield array gfAr to a lime file\n",
    "lio.save(gfAr,'Gen2_8x24_gfAr.lime')"
   ]
  },
  {
   "cell_type": "markdown",
   "id": "99981925",
   "metadata": {},
   "source": [
    "Since our new file has a standard extension, `lyncs.io` can infer the format from the filename. The `head()` function now accesses the `lime` record associated with our new data."
   ]
  },
  {
   "cell_type": "code",
   "execution_count": null,
   "id": "74c58510",
   "metadata": {},
   "outputs": [],
   "source": [
    "# Read the header of our new lime file\n",
    "lio.head('Gen2_8x24_gfAr.lime')"
   ]
  },
  {
   "cell_type": "markdown",
   "id": "0cedf639",
   "metadata": {},
   "source": [
    "If we want to access all of the records in the file, we can use `lime.read_records()`:"
   ]
  },
  {
   "cell_type": "code",
   "execution_count": null,
   "id": "d7b83558",
   "metadata": {},
   "outputs": [],
   "source": [
    "lio.lime.read_records('Gen2_8x24_gfAr.lime')"
   ]
  },
  {
   "cell_type": "markdown",
   "id": "edf8e158",
   "metadata": {},
   "source": [
    "## Manipulating the data\n",
    "\n",
    "As an exercise, let's calculate the values for the spatial and temporal plaquette:"
   ]
  },
  {
   "cell_type": "code",
   "execution_count": null,
   "id": "1e707f42",
   "metadata": {},
   "outputs": [],
   "source": [
    "# Here show the shape of the data\n",
    "# it is [ID, NT, NX, NY, NZ, mu, colour, colour]\n",
    "print(gfAr.shape)"
   ]
  },
  {
   "cell_type": "code",
   "execution_count": null,
   "id": "013e5718",
   "metadata": {},
   "outputs": [],
   "source": [
    "# Use Ryan's plaquette code to calculate whole of lattice plaquette\n",
    "# the sum of plaquettes, the number of plaquttes, the average plaquette and the time taken\n",
    "sumTrP, nP, ave, time = RPlaq.plaquette(gfAr[0, ...])\n",
    "print(f'calculated average plaquette {ave} in {time:.2} seconds')"
   ]
  },
  {
   "cell_type": "code",
   "execution_count": null,
   "id": "af563690",
   "metadata": {},
   "outputs": [],
   "source": [
    "# Use Ryan's plaquette code to calculate spatial plaquette\n",
    "ssumTrP, snP, save, stime = RPlaq.plaquette(gfAr[0, ...], muStart=1, muEnd=4, nuEnd=4)\n",
    "print(f'calculated average spatial plaquette {save} in {stime:.2} seconds')"
   ]
  },
  {
   "cell_type": "code",
   "execution_count": null,
   "id": "34861e02",
   "metadata": {},
   "outputs": [],
   "source": [
    "# Use Ryan's plaquette code to calculate temporal plaquette\n",
    "tsumTrP, tnP, tave, ttime = RPlaq.plaquette(gfAr[0, ...], muStart=0, muEnd=1, nuEnd=4)\n",
    "print(f'calculated average temporal plaquette {tave} in {ttime:.2} seconds')"
   ]
  },
  {
   "cell_type": "code",
   "execution_count": null,
   "id": "da9ef2b6",
   "metadata": {},
   "outputs": [],
   "source": [
    "# Just check that this agrees with the whole of lattice plaquette (visually)\n",
    "print(f'average of temporal and spatial plaquettes {(tave+save)/2.0}')"
   ]
  }
 ],
 "metadata": {
  "kernelspec": {
   "display_name": "gluprop",
   "language": "python",
   "name": "gluprop"
  },
  "language_info": {
   "codemirror_mode": {
    "name": "ipython",
    "version": 3
   },
   "file_extension": ".py",
   "mimetype": "text/x-python",
   "name": "python",
   "nbconvert_exporter": "python",
   "pygments_lexer": "ipython3",
   "version": "3.8.15"
  }
 },
 "nbformat": 4,
 "nbformat_minor": 5
}
